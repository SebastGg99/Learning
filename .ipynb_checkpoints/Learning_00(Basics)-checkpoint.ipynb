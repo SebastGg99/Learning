{
 "cells": [
  {
   "cell_type": "markdown",
   "id": "0bd4dc67-b8b1-457c-9918-e0e5766544c7",
   "metadata": {},
   "source": [
    "* Presionar \"enter\" para seleccionar una celda, y \"esc\" para salir de la celda y pasar a otra. \\\\\n",
    "* Presionar \"b\" para crear una celda abajo, y \"a\" para crear una celda arriba. \\\\\n",
    "* Presionar \"dd\" rápidamente para eliminar una celda, y \"z\" para deshacer la eliminación. \\\\"
   ]
  },
  {
   "cell_type": "markdown",
   "id": "252c13fc-55b3-4458-b265-c63a2332468a",
   "metadata": {
    "jp-MarkdownHeadingCollapsed": true,
    "tags": []
   },
   "source": [
    "# BÁSICO"
   ]
  },
  {
   "cell_type": "code",
   "execution_count": 5,
   "id": "a3607fae-5c31-45ae-b909-795cf3113189",
   "metadata": {},
   "outputs": [
    {
     "name": "stdout",
     "output_type": "stream",
     "text": [
      "3\n",
      "1\n"
     ]
    }
   ],
   "source": [
    "#Recordar las operaciones:\n",
    "a = 16//5 #\"Función\" cociente\n",
    "b = 16%5 #\"Función\" Residuo\n",
    "print(a)\n",
    "print(b)"
   ]
  },
  {
   "cell_type": "markdown",
   "id": "30c00c11-40ec-48fc-bbf4-af2544a6586d",
   "metadata": {},
   "source": [
    "x = \"Nombre: {}\".format(\"Sebastian\") + \" Apellidos: {}\".format(\"Gaviria Giraldo\")\n",
    "x"
   ]
  },
  {
   "cell_type": "code",
   "execution_count": 15,
   "id": "72660799-f641-43f9-9ac1-61fff2cb651f",
   "metadata": {},
   "outputs": [
    {
     "data": {
      "text/plain": [
       "'Este número 23.46 tiene dos decimales'"
      ]
     },
     "execution_count": 15,
     "metadata": {},
     "output_type": "execute_result"
    }
   ],
   "source": [
    "n = 23.45555667\n",
    "\"Este número {:.2f} tiene dos decimales\".format(n)"
   ]
  },
  {
   "cell_type": "markdown",
   "id": "365d7816-5aa0-42be-8f2e-3646b20b7388",
   "metadata": {
    "jp-MarkdownHeadingCollapsed": true,
    "tags": []
   },
   "source": [
    "## Listas"
   ]
  },
  {
   "cell_type": "code",
   "execution_count": 21,
   "id": "f40bd24d-ee11-4e22-b269-ddeaf4506b05",
   "metadata": {},
   "outputs": [
    {
     "data": {
      "text/plain": [
       "[1, 2, 3]"
      ]
     },
     "execution_count": 21,
     "metadata": {},
     "output_type": "execute_result"
    }
   ],
   "source": [
    "L = [[1,2,3], 2, 3, 4, 5]\n",
    "L[0]"
   ]
  },
  {
   "cell_type": "code",
   "execution_count": 18,
   "id": "b88bec52-6f2b-48b7-864f-c035d3658ab7",
   "metadata": {},
   "outputs": [
    {
     "data": {
      "text/plain": [
       "[1, 2, 3, 4, 0]"
      ]
     },
     "execution_count": 18,
     "metadata": {},
     "output_type": "execute_result"
    }
   ],
   "source": [
    "L[4] = 0\n",
    "L"
   ]
  },
  {
   "cell_type": "code",
   "execution_count": 24,
   "id": "97e22b42-0342-4938-b5ab-2ef90d271386",
   "metadata": {},
   "outputs": [
    {
     "data": {
      "text/plain": [
       "3"
      ]
     },
     "execution_count": 24,
     "metadata": {},
     "output_type": "execute_result"
    }
   ],
   "source": [
    "L[0][2]"
   ]
  },
  {
   "cell_type": "markdown",
   "id": "3812fd2b-44ca-4588-b16a-8f89bec89ff8",
   "metadata": {
    "jp-MarkdownHeadingCollapsed": true,
    "tags": []
   },
   "source": [
    "## Tuplas"
   ]
  },
  {
   "cell_type": "code",
   "execution_count": 28,
   "id": "01cbc452-efaf-4afa-9a1d-bba8dce6efaa",
   "metadata": {},
   "outputs": [
    {
     "data": {
      "text/plain": [
       "4"
      ]
     },
     "execution_count": 28,
     "metadata": {},
     "output_type": "execute_result"
    }
   ],
   "source": [
    "T = (1, 2, 3, 4, \"hola\", [1,2,3,4], (1,2))\n",
    "T[3]\n",
    "#Las tuplas son como una lista, pero tienen comportamiento inmutable\n",
    "#Es decir, no puedo reasignar un valor nuevo a un elemento de la tupla (No se puede hacer T[3] = 9)"
   ]
  },
  {
   "cell_type": "markdown",
   "id": "1dbe1d1f-2de8-45f2-b662-dde80cbc8754",
   "metadata": {
    "jp-MarkdownHeadingCollapsed": true,
    "tags": []
   },
   "source": [
    "## Diccionarios"
   ]
  },
  {
   "cell_type": "code",
   "execution_count": 39,
   "id": "0a332318-e48f-44ce-bcf0-5f881e3fdb58",
   "metadata": {},
   "outputs": [
    {
     "data": {
      "text/plain": [
       "'Carro'"
      ]
     },
     "execution_count": 39,
     "metadata": {},
     "output_type": "execute_result"
    }
   ],
   "source": [
    "d = {\"BMW\": \"Carro\",\n",
    "     \"Perro\": \"Animal\",\n",
    "     \"Pc\": \"Tecnología\"}\n",
    "\n",
    "d[\"BMW\"]"
   ]
  },
  {
   "cell_type": "markdown",
   "id": "e66d21fe-8d1d-47fd-b2e8-ae41c7173e6c",
   "metadata": {
    "jp-MarkdownHeadingCollapsed": true,
    "tags": []
   },
   "source": [
    "## Ciclos For"
   ]
  },
  {
   "cell_type": "code",
   "execution_count": 40,
   "id": "ab7a3f90-ccad-46ea-a1c9-82b2c9139ae1",
   "metadata": {},
   "outputs": [
    {
     "name": "stdout",
     "output_type": "stream",
     "text": [
      "0\n",
      "1\n",
      "2\n",
      "3\n",
      "4\n"
     ]
    }
   ],
   "source": [
    "#Forma clásica\n",
    "for i in range(5):\n",
    "    print(i)"
   ]
  },
  {
   "cell_type": "code",
   "execution_count": 41,
   "id": "af0189e7-a683-438e-8b94-c804c69f8e12",
   "metadata": {},
   "outputs": [
    {
     "data": {
      "text/plain": [
       "[0, 1, 4, 9, 16, 25, 36, 49, 64, 81, 100]"
      ]
     },
     "execution_count": 41,
     "metadata": {},
     "output_type": "execute_result"
    }
   ],
   "source": [
    "list = []\n",
    "for i in range(11):\n",
    "    list.append(i**2)\n",
    "list"
   ]
  },
  {
   "cell_type": "code",
   "execution_count": 42,
   "id": "ace10c08-73dd-4266-b188-bffe33a363c6",
   "metadata": {},
   "outputs": [
    {
     "name": "stdout",
     "output_type": "stream",
     "text": [
      "Huevos\n",
      "Leche\n",
      "Quesito\n",
      "Chocolate\n"
     ]
    }
   ],
   "source": [
    "#Ciclos con listas (Listloops)\n",
    "L = [\"Huevos\", \"Leche\", \"Quesito\", \"Chocolate\"]\n",
    "for element in L:\n",
    "    print(element)"
   ]
  },
  {
   "cell_type": "code",
   "execution_count": 43,
   "id": "49a36055-059f-4a27-a224-d2e776caf43b",
   "metadata": {},
   "outputs": [
    {
     "name": "stdout",
     "output_type": "stream",
     "text": [
      "índice 0 contiene Huevos\n",
      "índice 1 contiene Leche\n",
      "índice 2 contiene Quesito\n",
      "índice 3 contiene Chocolate\n"
     ]
    }
   ],
   "source": [
    "#Ciclos con enumerate\n",
    "for i, element in enumerate(L):\n",
    "    print(\"índice {} contiene {}\".format(i, element))"
   ]
  },
  {
   "cell_type": "code",
   "execution_count": 46,
   "id": "612f7d8e-704b-4c47-9ebf-55532a3c5226",
   "metadata": {},
   "outputs": [
    {
     "data": {
      "text/plain": [
       "[0, 1, 8, 27, 64, 125, 216, 343, 512, 729, 1000]"
      ]
     },
     "execution_count": 46,
     "metadata": {},
     "output_type": "execute_result"
    }
   ],
   "source": [
    "#Comprenhension list\n",
    "Lista = [i**3 for i in range(11)]\n",
    "Lista"
   ]
  },
  {
   "cell_type": "code",
   "execution_count": 48,
   "id": "4c54ea86-9a1b-4a93-9748-03cd4a2b6188",
   "metadata": {},
   "outputs": [
    {
     "name": "stdout",
     "output_type": "stream",
     "text": [
      "i = 0, j = 0\n",
      "i = 0, j = 1\n",
      "i = 0, j = 2\n",
      "i = 0, j = 3\n",
      "i = 0, j = 4\n",
      "i = 0, j = 5\n",
      "i = 1, j = 0\n",
      "i = 1, j = 1\n",
      "i = 1, j = 2\n",
      "i = 1, j = 3\n",
      "i = 1, j = 4\n",
      "i = 1, j = 5\n",
      "i = 2, j = 0\n",
      "i = 2, j = 1\n",
      "i = 2, j = 2\n",
      "i = 2, j = 3\n",
      "i = 2, j = 4\n",
      "i = 2, j = 5\n",
      "i = 3, j = 0\n",
      "i = 3, j = 1\n",
      "i = 3, j = 2\n",
      "i = 3, j = 3\n",
      "i = 3, j = 4\n",
      "i = 3, j = 5\n",
      "i = 4, j = 0\n",
      "i = 4, j = 1\n",
      "i = 4, j = 2\n",
      "i = 4, j = 3\n",
      "i = 4, j = 4\n",
      "i = 4, j = 5\n",
      "i = 5, j = 0\n",
      "i = 5, j = 1\n",
      "i = 5, j = 2\n",
      "i = 5, j = 3\n",
      "i = 5, j = 4\n",
      "i = 5, j = 5\n"
     ]
    }
   ],
   "source": [
    "#Ciclos dobles\n",
    "for i in range(6):\n",
    "    for j in range(6):\n",
    "        print(\"i = {}, j = {}\".format(i, j))"
   ]
  },
  {
   "cell_type": "markdown",
   "id": "baa29762-eb00-4ed5-ba2e-d498b94197db",
   "metadata": {
    "jp-MarkdownHeadingCollapsed": true,
    "tags": []
   },
   "source": [
    "## Booleanos"
   ]
  },
  {
   "cell_type": "code",
   "execution_count": 60,
   "id": "a4995af3-c354-4fe8-a30b-5fbd3c685ed1",
   "metadata": {},
   "outputs": [],
   "source": [
    "a = True\n",
    "b = False\n",
    "#a or b\n",
    "#a and b\n",
    "#not(a) or not(b)\n",
    "#not(a) and not(b)\n",
    "#\"Erro\" in \"Perro\"\n",
    "#\"err\" in \"Perro\"\n",
    "#if \"ato\" in \"Gato\":\n",
    "#    print(\"Sizas\")"
   ]
  },
  {
   "cell_type": "markdown",
   "id": "6d50c9d1-d589-4fbb-8aa6-677e3259e352",
   "metadata": {
    "jp-MarkdownHeadingCollapsed": true,
    "tags": []
   },
   "source": [
    "# PROBLEMAS"
   ]
  },
  {
   "cell_type": "markdown",
   "id": "07fb1d7d-8367-4845-9fc8-51fbc6a9bed1",
   "metadata": {},
   "source": [
    "**Problema 1**"
   ]
  },
  {
   "cell_type": "code",
   "execution_count": 123,
   "id": "ef02e903-dd67-44ff-9dec-d0ae255ecbc6",
   "metadata": {},
   "outputs": [],
   "source": [
    "import numpy as np\n",
    "import matplotlib.pyplot as plt\n",
    "\n",
    "def y(t, v_0, g = 9.81):\n",
    "    y = -0.5*g*(t**2) + v_0*t\n",
    "    return y\n",
    "\n",
    "\n",
    "T = np.linspace(0, 4, 100) \n",
    "\n",
    "J = y(T, 10)\n",
    "M = y(T, 15)"
   ]
  },
  {
   "cell_type": "code",
   "execution_count": 124,
   "id": "9083706a-223f-4e5c-ba39-0cecfb354560",
   "metadata": {},
   "outputs": [
    {
     "data": {
      "image/png": "[encoded data removed]",
      "text/plain": [
       "<Figure size 432x288 with 1 Axes>"
      ]
     },
     "metadata": {
      "needs_background": "light"
     },
     "output_type": "display_data"
    }
   ],
   "source": [
    "plt.plot(T, J, label = \"Jim\")\n",
    "plt.plot(T, M, label = \"Mark\")\n",
    "plt.xlabel(\"Tiempo [s]\", fontsize = 20)\n",
    "plt.ylabel(\"Altura [m]\", fontsize = 20)\n",
    "plt.legend()\n",
    "plt.grid()\n",
    "plt.show()"
   ]
  },
  {
   "cell_type": "markdown",
   "id": "fb341448-2965-4379-b9fc-52b33f879510",
   "metadata": {},
   "source": [
    "**Problema 2**"
   ]
  },
  {
   "cell_type": "code",
   "execution_count": 125,
   "id": "0cdaf82d-e084-4e51-92f1-2ea339e3b64c",
   "metadata": {},
   "outputs": [
    {
     "data": {
      "text/plain": [
       "'of what just is'"
      ]
     },
     "execution_count": 125,
     "metadata": {},
     "output_type": "execute_result"
    }
   ],
   "source": [
    "poem=['when day comes we ask ourselves,',\n",
    "    'where can we find light in this never-ending shade?',\n",
    "    'the loss we carry,',\n",
    "    'a sea we must wade',\n",
    "    \"we've braved the belly of the beast\",\n",
    "    \"we've learned that quiet isn't always peace\",\n",
    "    \"and the norms and notions\",\n",
    "    \"of what just is\"]\n",
    "\n",
    "poem[7]"
   ]
  },
  {
   "cell_type": "code",
   "execution_count": 162,
   "id": "388b58a9-5687-4071-ab67-3168337bacab",
   "metadata": {},
   "outputs": [
    {
     "name": "stdout",
     "output_type": "stream",
     "text": [
      "La línea 1, contiene nosotros\n",
      "La línea 2, contiene nosotros\n",
      "La línea 3, contiene nosotros\n",
      "La línea 4, contiene nosotros\n",
      "La línea 5, contiene nosotros\n",
      "La línea 6, contiene nosotros\n",
      "La línea 7, no contiene nosotros\n",
      "La línea 8, no contiene nosotros\n"
     ]
    }
   ],
   "source": [
    "for i, element in enumerate(poem):\n",
    "    if \"we\" in element:\n",
    "        print(\"La línea {}, contiene nosotros\".format(i+1))\n",
    "    else:\n",
    "        print(\"La línea {}, no contiene nosotros\".format(i+1))"
   ]
  },
  {
   "cell_type": "markdown",
   "id": "b0885cd7-60d8-4a29-b928-de1a22ae5afd",
   "metadata": {},
   "source": [
    "**Problema 3**"
   ]
  },
  {
   "cell_type": "code",
   "execution_count": 189,
   "id": "58138744-cf38-4657-bda5-230732c9cab1",
   "metadata": {},
   "outputs": [
    {
     "name": "stdout",
     "output_type": "stream",
     "text": [
      "333333666666\n"
     ]
    }
   ],
   "source": [
    "sum = 0\n",
    "for i in range(1000000):\n",
    "    if i%4 != 0 and i%6 != 0:\n",
    "        sum += i\n",
    "print(sum)"
   ]
  }
 ],
 "metadata": {
  "kernelspec": {
   "display_name": "Python 3 (ipykernel)",
   "language": "python",
   "name": "python3"
  },
  "language_info": {
   "codemirror_mode": {
    "name": "ipython",
    "version": 3
   },
   "file_extension": ".py",
   "mimetype": "text/x-python",
   "name": "python",
   "nbconvert_exporter": "python",
   "pygments_lexer": "ipython3",
   "version": "3.9.7"
  }
 },
 "nbformat": 4,
 "nbformat_minor": 5
}
