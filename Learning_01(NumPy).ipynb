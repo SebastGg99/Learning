{
 "cells": [
  {
   "cell_type": "markdown",
   "id": "974e8cb8-a0e7-4ed2-9576-e4fbae1820a0",
   "metadata": {
    "jp-MarkdownHeadingCollapsed": true,
    "tags": []
   },
   "source": [
    "# NUMPY"
   ]
  },
  {
   "cell_type": "markdown",
   "id": "6c555bd9-8255-44dc-a12d-dbd063b07533",
   "metadata": {
    "jp-MarkdownHeadingCollapsed": true,
    "tags": []
   },
   "source": [
    "## NumPy básico"
   ]
  },
  {
   "cell_type": "code",
   "execution_count": 3,
   "id": "38a1fcd0-8c2b-429c-bbd6-319829762a95",
   "metadata": {},
   "outputs": [],
   "source": [
    "import numpy as np\n",
    "import matplotlib.pyplot as plt\n",
    "\n",
    "a1 = np.array([4,6,8,2])\n",
    "a2 = np.zeros(10)\n",
    "a3 = np.ones(4)\n",
    "a4 = np.random.random(10)  #Crea un array con 10 números aleatorios, entre 1 y 0, uniformemente distribuidos\n",
    "a5 = np.random.randn(1000)  #Crea un array con 10 números aleatorios, entre 1 y 0, normalmente distribuidos (gaussianos)\n",
    "a6 = np.linspace(0, 10, 100)\n",
    "a7 = np.arange(0, 10, 0.01)"
   ]
  },
  {
   "cell_type": "code",
   "execution_count": 4,
   "id": "38b5d98e-d41c-4405-8c83-942c70d32f02",
   "metadata": {},
   "outputs": [
    {
     "data": {
      "text/plain": [
       "array([False,  True,  True, False])"
      ]
     },
     "execution_count": 4,
     "metadata": {},
     "output_type": "execute_result"
    }
   ],
   "source": [
    "2*a1>10"
   ]
  },
  {
   "cell_type": "code",
   "execution_count": 5,
   "id": "cae2b0a6-6328-4efc-b873-1cb7456d14ff",
   "metadata": {},
   "outputs": [
    {
     "data": {
      "text/plain": [
       "array([0.75 , 0.5  , 0.375, 1.5  ])"
      ]
     },
     "execution_count": 5,
     "metadata": {},
     "output_type": "execute_result"
    }
   ],
   "source": [
    "3/a1"
   ]
  },
  {
   "cell_type": "code",
   "execution_count": 6,
   "id": "ceeae02a-9cf5-49f2-b57b-21913f66cfde",
   "metadata": {},
   "outputs": [
    {
     "data": {
      "image/png": "[encoded data removed]",
      "text/plain": [
       "<Figure size 432x288 with 1 Axes>"
      ]
     },
     "metadata": {
      "needs_background": "light"
     },
     "output_type": "display_data"
    }
   ],
   "source": [
    "plt.hist(a4)\n",
    "plt.show()"
   ]
  },
  {
   "cell_type": "code",
   "execution_count": 7,
   "id": "6fec630b-6f78-4b1e-8e79-bdb1be993a47",
   "metadata": {},
   "outputs": [
    {
     "data": {
      "text/plain": [
       "array([0, 2, 0, 2], dtype=int32)"
      ]
     },
     "execution_count": 7,
     "metadata": {},
     "output_type": "execute_result"
    }
   ],
   "source": [
    "a1%4"
   ]
  },
  {
   "cell_type": "code",
   "execution_count": 8,
   "id": "85b3abbd-fb4e-4bb8-aef1-3fccdbc7a694",
   "metadata": {},
   "outputs": [
    {
     "data": {
      "text/plain": [
       "array([4, 8])"
      ]
     },
     "execution_count": 8,
     "metadata": {},
     "output_type": "execute_result"
    }
   ],
   "source": [
    "a1%4==0\n",
    "a1[a1%4==0]"
   ]
  },
  {
   "cell_type": "code",
   "execution_count": 9,
   "id": "245c2b4d-1942-4788-ad12-69d060164406",
   "metadata": {},
   "outputs": [
    {
     "data": {
      "text/plain": [
       "array([ 4,  6,  8, 10])"
      ]
     },
     "execution_count": 9,
     "metadata": {},
     "output_type": "execute_result"
    }
   ],
   "source": [
    "a1 = np.array([2, 4, 6, 8, 10])\n",
    "\n",
    "a1[2:] #Extrae los elementos con índices mayores o iguales a 2\n",
    "a1[::2] #Extrae elementos aumentando el índice de dos en dos\n",
    "a1[:-2] #Extrae elementos en orden inverso después de -2\n",
    "a1[a1>3]"
   ]
  },
  {
   "cell_type": "code",
   "execution_count": 10,
   "id": "aadb9b48-a6e6-4f1e-a275-87112674c384",
   "metadata": {},
   "outputs": [
    {
     "data": {
      "text/plain": [
       "array(['Jim', 'Josh'], dtype='<U4')"
      ]
     },
     "execution_count": 10,
     "metadata": {},
     "output_type": "execute_result"
    }
   ],
   "source": [
    "#Forma de extraer la primera letra de cada elemento de un array\n",
    "#De esos elementos, ver si la letra es \"J\"\n",
    "names = np.array(['Jim', 'Luke', 'Josh', 'Pete'])\n",
    "first_letter_j = np.vectorize(lambda s: s[0])(names)=='J'\n",
    "names[first_letter_j]\n",
    "#np.vectorize() aplica la función a cada uno de los elementos del array"
   ]
  },
  {
   "cell_type": "code",
   "execution_count": 11,
   "id": "3e933270-a4f0-4862-b21d-4681a6e41016",
   "metadata": {},
   "outputs": [
    {
     "data": {
      "text/plain": [
       "array(['Jim', 'Josh'], dtype='<U4')"
      ]
     },
     "execution_count": 11,
     "metadata": {},
     "output_type": "execute_result"
    }
   ],
   "source": [
    "#Forma alternativa\n",
    "a = lambda s: s[0]\n",
    "a = np.vectorize(a)\n",
    "b = a(names) == \"J\"\n",
    "names[b]"
   ]
  },
  {
   "cell_type": "markdown",
   "id": "4d899895-747d-467e-82c3-d591f2fd2933",
   "metadata": {
    "jp-MarkdownHeadingCollapsed": true,
    "tags": []
   },
   "source": [
    "## Estadística y Cálculo"
   ]
  },
  {
   "cell_type": "markdown",
   "id": "06d78237-160d-4770-839c-863d918631df",
   "metadata": {
    "jp-MarkdownHeadingCollapsed": true,
    "tags": []
   },
   "source": [
    "### Funciones estadísticas básicas"
   ]
  },
  {
   "cell_type": "code",
   "execution_count": 12,
   "id": "7573953b-1357-4758-a068-5b544bf9e92a",
   "metadata": {},
   "outputs": [
    {
     "data": {
      "text/plain": [
       "array([10.22488511, 11.24049502, 10.34704818, ..., 15.93313446,\n",
       "       10.48055488,  8.74254602])"
      ]
     },
     "execution_count": 12,
     "metadata": {},
     "output_type": "execute_result"
    }
   ],
   "source": [
    "a1 = 2*np.random.randn(10000) + 10\n",
    "a1"
   ]
  },
  {
   "cell_type": "code",
   "execution_count": 13,
   "id": "af748580-38d6-4e53-8bf0-3568dba31e60",
   "metadata": {},
   "outputs": [
    {
     "data": {
      "text/plain": [
       "11.672122281261094"
      ]
     },
     "execution_count": 13,
     "metadata": {},
     "output_type": "execute_result"
    }
   ],
   "source": [
    "np.mean(a1) #Media aritmética de los datos\n",
    "np.std(a1) #Desviación estándar de los datos\n",
    "np.percentile(a1, 80) #Percentil que da el número tal que el 80% de los números en el array son menores a él"
   ]
  },
  {
   "cell_type": "markdown",
   "id": "faa54932-adea-457f-88b5-fc8706eb2f0a",
   "metadata": {
    "jp-MarkdownHeadingCollapsed": true,
    "tags": []
   },
   "source": [
    "### Integrales y derivadas"
   ]
  },
  {
   "cell_type": "code",
   "execution_count": 14,
   "id": "817b0e6f-e85c-44f2-b10e-25c6e3302255",
   "metadata": {},
   "outputs": [],
   "source": [
    "x = np.linspace(1, 10, 100) #Definimos un array de elementos\n",
    "y = 1/x**2 * np.sin(x) #Definimos una función evaluada en el array\n",
    "dydx = np.gradient(y,x) #Derivada\n",
    "Y = np.cumsum(y) * (x[1]-x[0]) #Intengral usando cumsum"
   ]
  },
  {
   "cell_type": "code",
   "execution_count": 15,
   "id": "a90bb732-d7d6-4329-8dce-02d6af627b5e",
   "metadata": {},
   "outputs": [
    {
     "data": {
      "image/png": "[encoded data removed]",
      "text/plain": [
       "<Figure size 432x288 with 1 Axes>"
      ]
     },
     "metadata": {
      "needs_background": "light"
     },
     "output_type": "display_data"
    }
   ],
   "source": [
    "plt.plot(x, y, label = \"$y(x)$\")\n",
    "plt.plot(x, dydx, label = \"$\\frac{dy}{dx}$\")\n",
    "plt.plot(x, Y, label = \"$Y(x)$\")\n",
    "plt.xlabel(\"$x$\", fontsize = 20)\n",
    "plt.ylabel(\"$y$\", fontsize = 20)\n",
    "plt.show()"
   ]
  },
  {
   "cell_type": "markdown",
   "id": "096bf190-71fc-4785-be19-07be0ca0c311",
   "metadata": {},
   "source": [
    "**EJERCICIOS**"
   ]
  },
  {
   "cell_type": "markdown",
   "id": "5995a3b3-214c-4624-8658-e67dc606c7dd",
   "metadata": {},
   "source": [
    "**1.**\n",
    "Sea $y = e^{-x/10}\\sin{x}$. Considere 10000 puntos $x$ en el intervalo $[0,10]$\n",
    "* Plot the function $y$ vs. $x$ in the range $[0,10]$ \n",
    "* Compute the mean and standard deviation of $y$ for $x$ values in $[4,7]$\n",
    "* For $x$ in the range $[4,7]$, find the value $y_m$ such that 80% of $y$ values are less than $y_m$\n",
    "* Plot $dy/dx$ vs $x$\n",
    "* Find the locations where $dy/dx = 0$"
   ]
  },
  {
   "cell_type": "code",
   "execution_count": 16,
   "id": "82fd1aaa-60a2-4937-a305-bda96d0f812c",
   "metadata": {},
   "outputs": [
    {
     "data": {
      "image/png": "[encoded data removed]",
      "text/plain": [
       "<Figure size 432x288 with 1 Axes>"
      ]
     },
     "metadata": {
      "needs_background": "light"
     },
     "output_type": "display_data"
    }
   ],
   "source": [
    "#Plot y vs x\n",
    "y = lambda x: np.sin(x)*np.exp(-x/10)\n",
    "x = np.linspace(0, 10, 10001)\n",
    "y = y(x)\n",
    "plt.plot(x, y)\n",
    "plt.xlabel(\"x\", fontsize = 20)\n",
    "plt.ylabel(\"y\", fontsize = 20)\n",
    "plt.grid()\n",
    "plt.show()"
   ]
  },
  {
   "cell_type": "code",
   "execution_count": 17,
   "id": "1d7303d0-9cda-4b4b-9207-813d752839bb",
   "metadata": {},
   "outputs": [
    {
     "data": {
      "text/plain": [
       "0.31448753875085117"
      ]
     },
     "execution_count": 17,
     "metadata": {},
     "output_type": "execute_result"
    }
   ],
   "source": [
    "#Mean and standard deviation\n",
    "y_ = y[(4 <= x)*(x <= 7)]\n",
    "mean = np.mean(y_)\n",
    "std_dev = np.std(y_)\n",
    "std_dev"
   ]
  },
  {
   "cell_type": "code",
   "execution_count": 18,
   "id": "4db2df34-0bf4-4297-9735-1b8822fd0e24",
   "metadata": {},
   "outputs": [
    {
     "data": {
      "text/plain": [
       "0.06145551274590662"
      ]
     },
     "execution_count": 18,
     "metadata": {},
     "output_type": "execute_result"
    }
   ],
   "source": [
    "#Percentil 80\n",
    "y_m = np.percentile(y_, 80)\n",
    "y_m"
   ]
  },
  {
   "cell_type": "code",
   "execution_count": 19,
   "id": "4a6d0055-d175-44da-999d-3d87fc5968ba",
   "metadata": {},
   "outputs": [
    {
     "data": {
      "image/png": "[encoded data removed]",
      "text/plain": [
       "<Figure size 432x288 with 1 Axes>"
      ]
     },
     "metadata": {
      "needs_background": "light"
     },
     "output_type": "display_data"
    }
   ],
   "source": [
    "#Plot dy/dx vs x\n",
    "dydx = np.gradient(y, x)\n",
    "plt.plot(x, dydx)\n",
    "plt.plot(x, np.zeros(10001))\n",
    "plt.xlabel(\"x\", fontsize = 20)\n",
    "plt.ylabel(\"y'\", fontsize = 20)\n",
    "plt.grid()\n",
    "plt.show()"
   ]
  },
  {
   "cell_type": "code",
   "execution_count": 20,
   "id": "1b483418-f8f6-422b-8674-b483379c70fa",
   "metadata": {},
   "outputs": [
    {
     "data": {
      "text/plain": [
       "array([1.472, 4.613, 7.755])"
      ]
     },
     "execution_count": 20,
     "metadata": {},
     "output_type": "execute_result"
    }
   ],
   "source": [
    "#Raíces de dy/dy\n",
    "#Se hallan los valores para los que dy/dx es igual a cero...\n",
    "#... usando el hecho de que si hay un cambio de signo en el intervalo para una función continua, entonces hay una raíz\n",
    "#Esto arrojará un array de booleanos, donde, al multiplicarla por x[1:], se obtienen los valores x para los que dy/dx == 0\n",
    "roots = x[1:][dydx[1:]*dydx[:-1] < 0]\n",
    "roots"
   ]
  },
  {
   "cell_type": "markdown",
   "id": "883ffee4-560d-45e2-8655-e19dae0b33b4",
   "metadata": {},
   "source": [
    "**2.**\n",
    "Sum together every number from 0 to 10000 except for those than can be divided by 4 or 7. Do this in one line of code"
   ]
  },
  {
   "cell_type": "code",
   "execution_count": 21,
   "id": "99e051cc-26fb-4960-99a6-ec0a776e66f0",
   "metadata": {},
   "outputs": [
    {
     "data": {
      "text/plain": [
       "32147142"
      ]
     },
     "execution_count": 21,
     "metadata": {},
     "output_type": "execute_result"
    }
   ],
   "source": [
    "#Primero se crea la máscara para el array de 10001 elementos\n",
    "#Cada máscara se aplica con las condiciones [array]%4!=0 y [array]%7!=0\n",
    "#Con esto, aplicamos la condiciones a cada elemento del mismo array y luego multiplicamos cada array resultante\n",
    "#Teniendo en cuenta que True*False == False\n",
    "#Luego, multiplicamos este array resultante por el array de 10001 elementos\n",
    "#Teniendo en cuenta que cada número multiplicado por False, se extrae del array final\n",
    "#Por último, se aplica la suma acumulativa a este array resultante final\n",
    "np.arange(0,10001,1)[(np.arange(0,10001,1)%4!=0)*(np.arange(0,10001,1)%7!=0)].sum()"
   ]
  },
  {
   "cell_type": "markdown",
   "id": "5457c351-93f9-42bd-8a5f-2c9a4b2887e1",
   "metadata": {},
   "source": [
    "**3.**\n",
    "Consider the flower petal $r(\\theta) = 1 + \\frac{3}{4}\\sin{(3\\theta)}$ for $0 \\leq \\theta \\leq 2\\pi$ \n",
    "* Make a plot of the flower (find x and y points)\n",
    "* Compute the area using the calculus formula $A = \\frac{1}{2}\\int_0^{2\\pi}r^2d\\theta$\n",
    "* Compute the arclength using the calculus formula $L = \\int_0^{2\\pi}\\sqrt{r^2 + (\\frac{dr}{d\\theta})^2}d\\theta$"
   ]
  },
  {
   "cell_type": "code",
   "execution_count": 22,
   "id": "6cceda5f-3f66-4c8b-a5a8-20842522799e",
   "metadata": {},
   "outputs": [
    {
     "data": {
      "image/png": "[encoded data removed]",
      "text/plain": [
       "<Figure size 432x288 with 1 Axes>"
      ]
     },
     "metadata": {
      "needs_background": "light"
     },
     "output_type": "display_data"
    }
   ],
   "source": [
    "theta = np.linspace(0, 2*np.pi, 10000)\n",
    "r = 1 + 3/4 * np.sin(3*theta)\n",
    "x = r*np.cos(theta)\n",
    "y = r*np.sin(theta)\n",
    "\n",
    "plt.plot(x, y)\n",
    "plt.xlabel(\"x\", fontsize = 20)\n",
    "plt.ylabel(\"y\", fontsize = 20)\n",
    "plt.grid()\n",
    "plt.show()"
   ]
  },
  {
   "cell_type": "code",
   "execution_count": 23,
   "id": "3a6d49c1-bb07-4d09-8aab-83a47ea06949",
   "metadata": {},
   "outputs": [
    {
     "data": {
      "text/plain": [
       "4.02547977809635"
      ]
     },
     "execution_count": 23,
     "metadata": {},
     "output_type": "execute_result"
    }
   ],
   "source": [
    "I = 0.5* np.sum(r**2)*(theta[1]-theta[0])\n",
    "I"
   ]
  },
  {
   "cell_type": "code",
   "execution_count": 24,
   "id": "9f583fdc-8be8-4b77-80bc-4bf740c2352e",
   "metadata": {},
   "outputs": [
    {
     "data": {
      "text/plain": [
       "11.626531213518835"
      ]
     },
     "execution_count": 24,
     "metadata": {},
     "output_type": "execute_result"
    }
   ],
   "source": [
    "dr = np.gradient(r, theta)\n",
    "l = np.sqrt( r**2 + dr**2 ) \n",
    "L = sum(l*(theta[1]-theta[0]))\n",
    "L"
   ]
  },
  {
   "cell_type": "markdown",
   "id": "a7ea5a1d-a548-479e-8ad4-748b6654c742",
   "metadata": {},
   "source": [
    "**4.**\n",
    "The power emitted by a blackbody is $P = A\\sigma\\epsilon T^4$. After measuring the temperature of a star you find that $T(t) = \\frac{1}{1 + e^{-kt}}T_0$. Plot the total energy emitted by the star as a function of time using the fact that $E(t) = \\int_0^tP(t)dt$ \n"
   ]
  },
  {
   "cell_type": "code",
   "execution_count": 25,
   "id": "8351aa93-fd0d-436f-a1e6-d3a689bda041",
   "metadata": {},
   "outputs": [
    {
     "data": {
      "image/png": "[encoded data removed]",
      "text/plain": [
       "<Figure size 432x288 with 1 Axes>"
      ]
     },
     "metadata": {
      "needs_background": "light"
     },
     "output_type": "display_data"
    }
   ],
   "source": [
    "kt = np.linspace(0, 3, 100)\n",
    "P = ( 1 / (1+np.exp(-kt)) )**4\n",
    "E = np.cumsum(P)*(kt[1] - kt[0])\n",
    "\n",
    "plt.plot(kt, E)\n",
    "plt.xlabel('$kt$', fontsize=20)\n",
    "plt.ylabel(r'$\\left(\\frac{k}{A \\sigma \\epsilon T_0^4}\\right) E(kt)$', fontsize=20)\n",
    "plt.grid()\n",
    "plt.show()"
   ]
  },
  {
   "cell_type": "markdown",
   "id": "90f14522-4654-4efb-8dee-b62af153d8ab",
   "metadata": {
    "jp-MarkdownHeadingCollapsed": true,
    "tags": []
   },
   "source": [
    "## Multi-Dimentional Arrays"
   ]
  },
  {
   "cell_type": "markdown",
   "id": "8293f45e-f4e1-440b-b671-e2330cf2618c",
   "metadata": {
    "jp-MarkdownHeadingCollapsed": true,
    "tags": []
   },
   "source": [
    "### Lo básico"
   ]
  },
  {
   "cell_type": "code",
   "execution_count": 26,
   "id": "5edf9eba-532c-4f09-9922-9772e400ffff",
   "metadata": {},
   "outputs": [
    {
     "data": {
      "text/plain": [
       "array([[4, 6, 4],\n",
       "       [2, 1, 2],\n",
       "       [5, 6, 7]])"
      ]
     },
     "execution_count": 26,
     "metadata": {},
     "output_type": "execute_result"
    }
   ],
   "source": [
    "A1 = np.array([[4,6,4],[2,1,2],[5,6,7]])\n",
    "A1\n",
    "#2*A1\n",
    "#2/A1"
   ]
  },
  {
   "cell_type": "code",
   "execution_count": 27,
   "id": "0fb61e2e-a959-497b-86cd-e1dc1184a744",
   "metadata": {},
   "outputs": [
    {
     "data": {
      "text/plain": [
       "array([4, 6, 4, 2, 1, 2, 5, 6, 7])"
      ]
     },
     "execution_count": 27,
     "metadata": {},
     "output_type": "execute_result"
    }
   ],
   "source": [
    "A1.ravel() #Este método transforma arrays multidimensionales en arrays comunes"
   ]
  },
  {
   "cell_type": "code",
   "execution_count": 28,
   "id": "c9084801-0b71-4caa-bcc2-6e9dd7a4f7fa",
   "metadata": {},
   "outputs": [
    {
     "data": {
      "text/plain": [
       "array([[ True,  True,  True],\n",
       "       [False, False, False],\n",
       "       [ True,  True,  True]])"
      ]
     },
     "execution_count": 28,
     "metadata": {},
     "output_type": "execute_result"
    }
   ],
   "source": [
    "#Boolean indexing\n",
    "A1 > 3"
   ]
  },
  {
   "cell_type": "code",
   "execution_count": 29,
   "id": "4364b9b2-265e-41db-b5cf-3a82a67fc0e0",
   "metadata": {},
   "outputs": [
    {
     "data": {
      "text/plain": [
       "array([[-1.83591835,  0.04758312,  2.60845442],\n",
       "       [-0.19437808, -0.55311224, -0.91345459]])"
      ]
     },
     "execution_count": 29,
     "metadata": {},
     "output_type": "execute_result"
    }
   ],
   "source": [
    "n, m = 2, 3\n",
    "A2 = np.random.randn(n,m) #Crea una matriz nxm de números aleatorios\n",
    "A2"
   ]
  },
  {
   "cell_type": "code",
   "execution_count": 30,
   "id": "7dff4df2-04fa-4f1c-8e62-7155a56c73d5",
   "metadata": {},
   "outputs": [
    {
     "data": {
      "text/plain": [
       "array([0.04758312, 2.60845442])"
      ]
     },
     "execution_count": 30,
     "metadata": {},
     "output_type": "execute_result"
    }
   ],
   "source": [
    "A2[A2 > 0]"
   ]
  },
  {
   "cell_type": "code",
   "execution_count": 31,
   "id": "df97f16f-8023-4f92-a239-84cf1b3ca34d",
   "metadata": {},
   "outputs": [
    {
     "data": {
      "text/plain": [
       "array([4, 2, 5])"
      ]
     },
     "execution_count": 31,
     "metadata": {},
     "output_type": "execute_result"
    }
   ],
   "source": [
    "A1[0]\n",
    "A1[:,0] #Recorre todas las filas, pero sólo toma el elemento con índice 0"
   ]
  },
  {
   "cell_type": "code",
   "execution_count": 32,
   "id": "9b948b93-62d3-4da1-96fb-125bfe9b1ec5",
   "metadata": {},
   "outputs": [
    {
     "data": {
      "text/plain": [
       "array([2, 5])"
      ]
     },
     "execution_count": 32,
     "metadata": {},
     "output_type": "execute_result"
    }
   ],
   "source": [
    "A1[1:] #Extrae todas las filas de la matriz con índice 1 en adelante\n",
    "A1[1:,0] #Uniendo los dos...\n",
    "A1[1:][:,0] #Forma alternativa, equivalente..."
   ]
  },
  {
   "cell_type": "code",
   "execution_count": 33,
   "id": "6f496225-c976-4348-925d-603026020c8c",
   "metadata": {},
   "outputs": [
    {
     "data": {
      "text/plain": [
       "array([[4, 6, 4, 2, 1],\n",
       "       [2, 5, 6, 7, 4],\n",
       "       [6, 4, 2, 1, 2],\n",
       "       [5, 6, 7, 4, 6],\n",
       "       [4, 2, 1, 2, 5],\n",
       "       [6, 7, 4, 6, 4]])"
      ]
     },
     "execution_count": 33,
     "metadata": {},
     "output_type": "execute_result"
    }
   ],
   "source": [
    "B1 = np.resize(A1, (6,5)) #Crea una nueva matriz de nueva dimensión, usando la matriz original como base\n",
    "B1"
   ]
  },
  {
   "cell_type": "code",
   "execution_count": 34,
   "id": "ea4684c4-7500-486f-a001-71c8a2fdba1e",
   "metadata": {},
   "outputs": [
    {
     "data": {
      "text/plain": [
       "array([[2, 1],\n",
       "       [1, 2],\n",
       "       [2, 5]])"
      ]
     },
     "execution_count": 34,
     "metadata": {},
     "output_type": "execute_result"
    }
   ],
   "source": [
    "B1[0:5:2][:,3:]"
   ]
  },
  {
   "cell_type": "markdown",
   "id": "a38c1c08-b5dd-47f1-b770-eedcb87f4b8e",
   "metadata": {
    "jp-MarkdownHeadingCollapsed": true,
    "tags": []
   },
   "source": [
    "### Funciones multidimensionales"
   ]
  },
  {
   "cell_type": "code",
   "execution_count": 35,
   "id": "c6d7f721-9e62-4bde-ae27-6a19d3beb5a7",
   "metadata": {},
   "outputs": [
    {
     "data": {
      "text/plain": [
       "array([[-10.       , -10.       , -10.       , ..., -10.       ,\n",
       "        -10.       , -10.       ],\n",
       "       [ -9.7979798,  -9.7979798,  -9.7979798, ...,  -9.7979798,\n",
       "         -9.7979798,  -9.7979798],\n",
       "       [ -9.5959596,  -9.5959596,  -9.5959596, ...,  -9.5959596,\n",
       "         -9.5959596,  -9.5959596],\n",
       "       ...,\n",
       "       [  9.5959596,   9.5959596,   9.5959596, ...,   9.5959596,\n",
       "          9.5959596,   9.5959596],\n",
       "       [  9.7979798,   9.7979798,   9.7979798, ...,   9.7979798,\n",
       "          9.7979798,   9.7979798],\n",
       "       [ 10.       ,  10.       ,  10.       , ...,  10.       ,\n",
       "         10.       ,  10.       ]])"
      ]
     },
     "execution_count": 35,
     "metadata": {},
     "output_type": "execute_result"
    }
   ],
   "source": [
    "#Para definir el dominio de una función multidimensional necesitamos definir un meshgrid\n",
    "x = np.linspace(-10, 10, 100)\n",
    "y = np.linspace(-10, 10, 100)\n",
    "\n",
    "xv, yv = np.meshgrid(x, y) #Lo que hace meshgrid es crear una malla, usando los elementos de los arrays x,y...\n",
    "xv #... Para el array x, cada columna tiene los números repetidos, correspondientes al índice de la columna...\n",
    "yv #... Para el array y, lo mismo pero en las filas --> fila[i] == np.array([y[i], y[i], ..., y[i]])"
   ]
  },
  {
   "cell_type": "code",
   "execution_count": 36,
   "id": "bdb9c9ee-059a-496f-8710-5548e230d1d8",
   "metadata": {},
   "outputs": [],
   "source": [
    "#Así se escribe la función multidimensional, en forma z(x, y)\n",
    "zv = xv**2 + yv**2"
   ]
  },
  {
   "cell_type": "code",
   "execution_count": 37,
   "id": "48932d54-f9db-410d-81f7-49258849a0b5",
   "metadata": {},
   "outputs": [
    {
     "data": {
      "image/png": "[encoded data removed]",
      "text/plain": [
       "<Figure size 432x288 with 2 Axes>"
      ]
     },
     "metadata": {
      "needs_background": "light"
     },
     "output_type": "display_data"
    }
   ],
   "source": [
    "plt.contourf(xv, yv, zv, levels = 30) #levels da el número de planos que se intersecan con la gráfica en 3D\n",
    "plt.colorbar()\n",
    "plt.show()"
   ]
  },
  {
   "cell_type": "markdown",
   "id": "d6993964-a188-44d5-a544-3e9dcd5bab21",
   "metadata": {
    "jp-MarkdownHeadingCollapsed": true,
    "tags": []
   },
   "source": [
    "## Álgebra Lineal"
   ]
  },
  {
   "cell_type": "markdown",
   "id": "681586e5-3896-4956-b2df-8865c6ecbb29",
   "metadata": {
    "jp-MarkdownHeadingCollapsed": true,
    "tags": []
   },
   "source": [
    "### Operaciones con matrices"
   ]
  },
  {
   "cell_type": "code",
   "execution_count": 55,
   "id": "003688d8-8c06-4a60-a392-e87a043f6953",
   "metadata": {},
   "outputs": [
    {
     "data": {
      "text/plain": [
       "array([[ 3,  2,  1],\n",
       "       [ 5, -5,  4],\n",
       "       [ 6,  0,  1]])"
      ]
     },
     "execution_count": 55,
     "metadata": {},
     "output_type": "execute_result"
    }
   ],
   "source": [
    "C = np.array([ [3, 2, 1],\n",
    "               [5,-5, 4],\n",
    "               [6, 0, 1] ])\n",
    "\n",
    "C1 = np.array([1,2,3])\n",
    "C2 = np.array([-1,2,-5])\n",
    "C"
   ]
  },
  {
   "cell_type": "code",
   "execution_count": 42,
   "id": "2d3d2911-e661-4fde-a030-0b747a733d40",
   "metadata": {},
   "outputs": [
    {
     "data": {
      "text/plain": [
       "array([10,  7,  9])"
      ]
     },
     "execution_count": 42,
     "metadata": {},
     "output_type": "execute_result"
    }
   ],
   "source": [
    "#Multiplicación de matrices\n",
    "C@C1"
   ]
  },
  {
   "cell_type": "code",
   "execution_count": 46,
   "id": "fa1132c5-587a-4e96-9fc0-c6240ff16a5f",
   "metadata": {},
   "outputs": [
    {
     "data": {
      "text/plain": [
       "array([[ 3,  5,  6],\n",
       "       [ 2, -5,  0],\n",
       "       [ 1,  4,  1]])"
      ]
     },
     "execution_count": 46,
     "metadata": {},
     "output_type": "execute_result"
    }
   ],
   "source": [
    "#Transposición de matrices\n",
    "C.T"
   ]
  },
  {
   "cell_type": "code",
   "execution_count": 47,
   "id": "ae8133b0-b592-481e-8706-7ab893043c62",
   "metadata": {},
   "outputs": [
    {
     "data": {
      "text/plain": [
       "-12"
      ]
     },
     "execution_count": 47,
     "metadata": {},
     "output_type": "execute_result"
    }
   ],
   "source": [
    "#Producto escalar\n",
    "np.dot(C1, C2)"
   ]
  },
  {
   "cell_type": "code",
   "execution_count": 49,
   "id": "3dc20237-70bf-442f-a951-2096e5114d4f",
   "metadata": {},
   "outputs": [
    {
     "data": {
      "text/plain": [
       "array([-16,   2,   4])"
      ]
     },
     "execution_count": 49,
     "metadata": {},
     "output_type": "execute_result"
    }
   ],
   "source": [
    "#Producto vectorial\n",
    "np.cross(C1, C2)"
   ]
  },
  {
   "cell_type": "markdown",
   "id": "911eedf5-b542-474f-8009-21252a127c09",
   "metadata": {
    "jp-MarkdownHeadingCollapsed": true,
    "tags": []
   },
   "source": [
    "### Sistemas de ecuaciones"
   ]
  },
  {
   "cell_type": "markdown",
   "id": "8c1df4cb-f85d-430b-9446-7c94df30fc22",
   "metadata": {},
   "source": [
    "$$3x + 2y + z = 4$$\n",
    "\n",
    "$$5x - 5y + 4z = 3$$\n",
    "\n",
    "$$6x + z = 4$$"
   ]
  },
  {
   "cell_type": "code",
   "execution_count": 56,
   "id": "26d67a89-29a8-4be6-9195-3ccbba8d55c3",
   "metadata": {},
   "outputs": [],
   "source": [
    "S = np.array([ [3, 2, 1],\n",
    "               [5,-5, 4],\n",
    "               [6, 0, 1] ]) #Matriz de coeficientes\n",
    "\n",
    "c = np.array([4, 3, 0]) #Vector tal que Sx = c"
   ]
  },
  {
   "cell_type": "code",
   "execution_count": 57,
   "id": "ece649ce-4c08-4455-bcda-5e30d1d3a9e3",
   "metadata": {},
   "outputs": [
    {
     "data": {
      "text/plain": [
       "array([-0.49056604,  1.26415094,  2.94339623])"
      ]
     },
     "execution_count": 57,
     "metadata": {},
     "output_type": "execute_result"
    }
   ],
   "source": [
    "sol = np.linalg.solve(S, c) #Resuelve el sistema escrito en forma matricial\n",
    "sol "
   ]
  },
  {
   "cell_type": "markdown",
   "id": "44802e4b-7499-46df-9b7e-f6a7de916d45",
   "metadata": {
    "jp-MarkdownHeadingCollapsed": true,
    "tags": []
   },
   "source": [
    "### Eigenvalues problem"
   ]
  },
  {
   "cell_type": "code",
   "execution_count": 64,
   "id": "94c1cfcb-048a-4a70-a5aa-00185a0a6a1d",
   "metadata": {},
   "outputs": [
    {
     "data": {
      "text/plain": [
       "array([2., 8., 2.])"
      ]
     },
     "execution_count": 64,
     "metadata": {},
     "output_type": "execute_result"
    }
   ],
   "source": [
    "A = np.array([ [4, 2, 2],\n",
    "               [2, 4, 2],\n",
    "               [2, 2, 4] ])\n",
    "\n",
    "w, v = np.linalg.eig(A)\n",
    "w #Eigenvalues"
   ]
  },
  {
   "cell_type": "code",
   "execution_count": 69,
   "id": "b0dd6321-f9c9-4354-bac5-a5b0ffdb9608",
   "metadata": {},
   "outputs": [
    {
     "data": {
      "text/plain": [
       "array([-0.81649658,  0.40824829,  0.40824829])"
      ]
     },
     "execution_count": 69,
     "metadata": {},
     "output_type": "execute_result"
    }
   ],
   "source": [
    "v1, v2, v3 = v[:,0], v[:,1], v[:,2] #Eigenvectors\n",
    "v1"
   ]
  },
  {
   "cell_type": "code",
   "execution_count": 74,
   "id": "74a03984-9b3f-4d5f-a019-29897784a614",
   "metadata": {},
   "outputs": [
    {
     "name": "stdout",
     "output_type": "stream",
     "text": [
      "[-1.63299316  0.81649658  0.81649658]\n",
      "[-1.63299316  0.81649658  0.81649658]\n"
     ]
    }
   ],
   "source": [
    "#Nótese que Av = av, se cumple la definición de eigenvalues y eigenvectors\n",
    "print(A@v1)\n",
    "print(w[0]*v1)"
   ]
  },
  {
   "cell_type": "markdown",
   "id": "592133ba-77ea-410a-8a09-45c37e77a1b8",
   "metadata": {},
   "source": [
    "**EJERCICIOS**"
   ]
  },
  {
   "cell_type": "markdown",
   "id": "c16ae384-fcfb-4bd3-964e-030bd6a1670e",
   "metadata": {},
   "source": [
    "**1.**\n",
    "Let $f(x, y) = e^{-(x^2 + y^2)}\\sin{x}$, for $-2 \\leq x \\leq 2$, and $-2 \\leq y \\leq 2$\n",
    "* Make a contour plot of $f$\n",
    "* Find the volume $|f(x, y)|$ in the specified $x$ and $y$ range\n",
    "* Find the volume $|f(x, y)|$ only in the region where $\\sqrt{x^2 + y^2} > 1/2$\n"
   ]
  },
  {
   "cell_type": "code",
   "execution_count": 85,
   "id": "8cc4443f-b566-45ab-84f8-224e0729ea1d",
   "metadata": {},
   "outputs": [
    {
     "data": {
      "image/png": "[encoded data removed]",
      "text/plain": [
       "<Figure size 432x288 with 2 Axes>"
      ]
     },
     "metadata": {
      "needs_background": "light"
     },
     "output_type": "display_data"
    }
   ],
   "source": [
    "x = np.linspace(-2, 2, 1000)\n",
    "y = np.linspace(-2, 2, 1000)\n",
    "xv, yv = np.meshgrid(x, y)\n",
    "f = np.sin(xv) * np.exp(-(xv**2 + yv**2))\n",
    "\n",
    "plt.contourf(xv, yv, f, levels = 30)\n",
    "plt.colorbar()\n",
    "plt.show()"
   ]
  },
  {
   "cell_type": "code",
   "execution_count": 93,
   "id": "0f9d0728-bb6d-4e4f-b080-0387adaa6f10",
   "metadata": {},
   "outputs": [
    {
     "data": {
      "text/plain": [
       "1.4861858145125453"
      ]
     },
     "execution_count": 93,
     "metadata": {},
     "output_type": "execute_result"
    }
   ],
   "source": [
    "#Primero, se convierte a la función f en un array unidimensional, con f.ravel()\n",
    "#Después, tomamos el valor absoluto de este array, pues buscamos el volumen de |f(x, y)|\n",
    "#Tomamos la suma de este array final...\n",
    "#... Para crear los diferenciales de x y y, usamos np.diff, t.q. np.diff(x) == dx\n",
    "#Multiplicamos la suma final por dxdy y así tenemos una \"pseudointegral\" que da el volumen \n",
    "sum( np.abs( f.ravel() ) ) * np.diff(x)[0] * np.diff(y)[0]"
   ]
  },
  {
   "cell_type": "code",
   "execution_count": 99,
   "id": "1e27657b-0193-4751-b2f6-2f017a104756",
   "metadata": {},
   "outputs": [
    {
     "data": {
      "text/plain": [
       "1.344765293020408"
      ]
     },
     "execution_count": 99,
     "metadata": {},
     "output_type": "execute_result"
    }
   ],
   "source": [
    "#Primero, creamos una máscara en el array f, t.q. cumpla la condición que imponemos \n",
    "#Nuevamente, se convierte a la función f en un array unidimensional, con f.ravel(), teniendo en cuenta que este array ya cumple las condiciones\n",
    "#Después, tomamos el valor absoluto de este array, pues buscamos el volumen de |f(x, y)| y tomamos la suma de este array final\n",
    "#Multiplicamos la suma final por dxdy y así tenemos una \"pseudointegral\" que da el volumen \n",
    "sum( np.abs( f[xv**2 + yv**2 > 0.25].ravel() ) ) * np.diff(x)[0] * np.diff(y)[0]"
   ]
  },
  {
   "cell_type": "markdown",
   "id": "ccb42380-622b-4f32-8259-6b4947d6ba17",
   "metadata": {},
   "source": [
    "**2.**\n",
    "After examining a circuit full of resistors, you find that the voltage at 4 specified points is given by:\n",
    "\n",
    "$$3V_1 + 2V_2 + 3V_3 + 10V_4 = 4$$\n",
    "\n",
    "$$2V_1 - 2V_2 + 5V_3 + 8V_4 = 1$$\n",
    "\n",
    "$$3V_1 + 3V_2 + 4V_3 + 9V_4 = 3$$\n",
    "\n",
    "$$3V_1 + 4V_2 - 3V_3 - 7V_4 = 2$$\n",
    "\n",
    "Find all the voltages"
   ]
  },
  {
   "cell_type": "code",
   "execution_count": 102,
   "id": "b6ac67c8-cbb8-4f32-ac10-5ebfe0c11073",
   "metadata": {},
   "outputs": [],
   "source": [
    "V = np.array([ [3, 2, 3, 10],\n",
    "               [2, -2, 5, 8],\n",
    "               [3, 3, 4, 9 ],\n",
    "               [3, 4, -3,-7] ])\n",
    "\n",
    "c = np.array([4, 1, 3, 2])"
   ]
  },
  {
   "cell_type": "code",
   "execution_count": 111,
   "id": "d514d84c-940d-400b-9148-415a09b3c1d6",
   "metadata": {},
   "outputs": [
    {
     "name": "stdout",
     "output_type": "stream",
     "text": [
      "El primer voltaje es igual a 0.7837837837837839 Volts\n",
      "El segundo voltaje es igual a 0.03603603603603589 Volts\n",
      "El tercer voltaje es igual a -0.6756756756756759 Volts\n",
      "El cuarto voltaje es igual a 0.3603603603603604 Volts\n"
     ]
    }
   ],
   "source": [
    "V1, V2, V3, V4 = np.linalg.solve(V, c)\n",
    "print(\"El primer voltaje es igual a {} Volts\".format(V1))\n",
    "print(\"El segundo voltaje es igual a {} Volts\".format(V2))\n",
    "print(\"El tercer voltaje es igual a {} Volts\".format(V3))\n",
    "print(\"El cuarto voltaje es igual a {} Volts\".format(V4))"
   ]
  },
  {
   "cell_type": "markdown",
   "id": "7a67f22c-0d15-4cd5-b284-c45231555c41",
   "metadata": {},
   "source": [
    "**3.**\n",
    "An electric field is given by $\\vec{E}(z, t) = E_0\\cos{(z - t)}\\hat{x} + 2E_0\\cos{(z - t + \\pi / 2)}\\hat{y}$\n",
    "* Find the magnetic field for all $z \\in [0, 4\\pi]$ and $t \\in [0, 10]$ using $c\\vec{B}(z, t) = \\hat{z} \\times \\vec{E}(z, t)$\n",
    "* Compute the Poynting vector $\\vec{S} = \\vec{E} \\times \\vec{B}$ for all $z$ and $t$"
   ]
  },
  {
   "cell_type": "code",
   "execution_count": 130,
   "id": "52930f91-6c53-4f7a-b5b8-4764ed867b04",
   "metadata": {},
   "outputs": [
    {
     "data": {
      "text/plain": [
       "array([[ 1.        ,  0.99490282,  0.97966323, ..., -0.93116473,\n",
       "        -0.88965286, -0.83907153],\n",
       "       [ 0.99195481,  0.99966402,  0.99718228, ..., -0.96982879,\n",
       "        -0.94030229, -0.90119001],\n",
       "       [ 0.9679487 ,  0.98834025,  0.9986563 , ..., -0.99288793,\n",
       "        -0.97582191, -0.948808  ],\n",
       "       ...,\n",
       "       [ 0.9679487 ,  0.93768952,  0.89787119, ..., -0.80975146,\n",
       "        -0.74645474, -0.67554839],\n",
       "       [ 0.99195481,  0.97413325,  0.94638102, ..., -0.87751789,\n",
       "        -0.82468857, -0.76345207],\n",
       "       [ 1.        ,  0.99490282,  0.97966323, ..., -0.93116473,\n",
       "        -0.88965286, -0.83907153]])"
      ]
     },
     "execution_count": 130,
     "metadata": {},
     "output_type": "execute_result"
    }
   ],
   "source": [
    "t = np.linspace(0, 10, 100)\n",
    "z = np.linspace(0, 4*np.pi, 100)\n",
    "\n",
    "tv, zv = np.meshgrid(t, z)\n",
    "Ex = np.cos(zv - tv)\n",
    "Ey = 2*np.cos(zv - tv + np.pi/2)\n",
    "Ez = 0*zv\n",
    "Ex"
   ]
  },
  {
   "cell_type": "code",
   "execution_count": 155,
   "id": "f9fa2759-77af-45e4-b556-c290ba4d01e9",
   "metadata": {},
   "outputs": [],
   "source": [
    "z_hat = np.array([[0, 0, 1]])\n",
    "E = np.array([Ex, Ey, Ez])\n",
    "E = np.swapaxes(E, 0, -1)"
   ]
  },
  {
   "cell_type": "code",
   "execution_count": 158,
   "id": "393b3c42-2e55-474f-aae5-8903785cd077",
   "metadata": {},
   "outputs": [],
   "source": [
    "B = np.cross(z_hat, E)"
   ]
  }
 ],
 "metadata": {
  "kernelspec": {
   "display_name": "Python 3 (ipykernel)",
   "language": "python",
   "name": "python3"
  },
  "language_info": {
   "codemirror_mode": {
    "name": "ipython",
    "version": 3
   },
   "file_extension": ".py",
   "mimetype": "text/x-python",
   "name": "python",
   "nbconvert_exporter": "python",
   "pygments_lexer": "ipython3",
   "version": "3.9.7"
  },
  "toc-autonumbering": true,
  "toc-showcode": true,
  "toc-showmarkdowntxt": false
 },
 "nbformat": 4,
 "nbformat_minor": 5
}
